{
 "cells": [
  {
   "cell_type": "code",
   "execution_count": 1,
   "id": "41590d0a-e680-463b-96ca-7d24493a91a4",
   "metadata": {},
   "outputs": [
    {
     "name": "stdout",
     "output_type": "stream",
     "text": [
      "Scaled test started\n"
     ]
    },
    {
     "name": "stderr",
     "output_type": "stream",
     "text": [
      "Adding sellers:  50%|█████     | 1/2 [00:01<00:01,  1.58s/it]"
     ]
    },
    {
     "name": "stdout",
     "output_type": "stream",
     "text": [
      "Time to add each seller: 1.5760078430175781\n"
     ]
    },
    {
     "name": "stderr",
     "output_type": "stream",
     "text": [
      "Adding sellers: 100%|██████████| 2/2 [00:03<00:00,  1.58s/it]"
     ]
    },
    {
     "name": "stdout",
     "output_type": "stream",
     "text": [
      "Time to add each seller: 1.5766000747680664\n"
     ]
    },
    {
     "name": "stderr",
     "output_type": "stream",
     "text": [
      "\n"
     ]
    },
    {
     "ename": "RuntimeError",
     "evalue": "Found no NVIDIA driver on your system. Please check that you have an NVIDIA GPU and installed a driver from http://www.nvidia.com/Download/index.aspx",
     "output_type": "error",
     "traceback": [
      "\u001b[0;31m---------------------------------------------------------------------------\u001b[0m",
      "\u001b[0;31mRuntimeError\u001b[0m                              Traceback (most recent call last)",
      "Cell \u001b[0;32mIn[1], line 102\u001b[0m\n\u001b[1;32m     99\u001b[0m     plt\u001b[38;5;241m.\u001b[39mshow()\n\u001b[1;32m    101\u001b[0m \u001b[38;5;28mprint\u001b[39m(\u001b[38;5;124m\"\u001b[39m\u001b[38;5;124mScaled test started\u001b[39m\u001b[38;5;124m\"\u001b[39m)\n\u001b[0;32m--> 102\u001b[0m \u001b[43mtest_scaled\u001b[49m\u001b[43m(\u001b[49m\u001b[43mcreate_df\u001b[49m\u001b[38;5;241;43m=\u001b[39;49m\u001b[38;5;28;43;01mFalse\u001b[39;49;00m\u001b[43m,\u001b[49m\u001b[43m \u001b[49m\u001b[43mfit_by_residual\u001b[49m\u001b[38;5;241;43m=\u001b[39;49m\u001b[38;5;28;43;01mTrue\u001b[39;49;00m\u001b[43m)\u001b[49m\n",
      "Cell \u001b[0;32mIn[1], line 78\u001b[0m, in \u001b[0;36mtest_scaled\u001b[0;34m(create_df, fit_by_residual)\u001b[0m\n\u001b[1;32m     75\u001b[0m seller_names \u001b[38;5;241m=\u001b[39m prepare_data\u001b[38;5;241m.\u001b[39mget_sellers()\u001b[38;5;241m.\u001b[39mget_seller_names()\n\u001b[1;32m     77\u001b[0m data_market \u001b[38;5;241m=\u001b[39m new_search_gpu\u001b[38;5;241m.\u001b[39mDataMarket(device\u001b[38;5;241m=\u001b[39m\u001b[38;5;124m'\u001b[39m\u001b[38;5;124mcuda\u001b[39m\u001b[38;5;124m'\u001b[39m)\n\u001b[0;32m---> 78\u001b[0m \u001b[43mdata_market\u001b[49m\u001b[38;5;241;43m.\u001b[39;49m\u001b[43mregister_buyer\u001b[49m\u001b[43m(\u001b[49m\u001b[43mbuyer_df\u001b[49m\u001b[38;5;241;43m=\u001b[39;49m\u001b[43mbuyer_data\u001b[49m\u001b[43m,\u001b[49m\u001b[43m \u001b[49m\u001b[43mjoin_keys\u001b[49m\u001b[38;5;241;43m=\u001b[39;49m\u001b[43mbuyer_join_keys\u001b[49m\u001b[43m,\u001b[49m\u001b[43m \u001b[49m\u001b[43mtarget_feature\u001b[49m\u001b[38;5;241;43m=\u001b[39;49m\u001b[38;5;124;43m'\u001b[39;49m\u001b[38;5;124;43mb1\u001b[39;49m\u001b[38;5;124;43m'\u001b[39;49m\u001b[43m,\u001b[49m\u001b[43m \u001b[49m\u001b[43mjoin_key_domains\u001b[49m\u001b[38;5;241;43m=\u001b[39;49m\u001b[43mprepare_data\u001b[49m\u001b[38;5;241;43m.\u001b[39;49m\u001b[43mget_domain\u001b[49m\u001b[43m(\u001b[49m\u001b[43m)\u001b[49m\u001b[43m,\u001b[49m\u001b[43m \u001b[49m\u001b[43mfit_by_residual\u001b[49m\u001b[38;5;241;43m=\u001b[39;49m\u001b[43mfit_by_residual\u001b[49m\u001b[43m)\u001b[49m\n\u001b[1;32m     80\u001b[0m \u001b[38;5;28;01mfor\u001b[39;00m i, seller_name \u001b[38;5;129;01min\u001b[39;00m tqdm(\u001b[38;5;28menumerate\u001b[39m(seller_names), total\u001b[38;5;241m=\u001b[39m\u001b[38;5;28mlen\u001b[39m(seller_names), desc\u001b[38;5;241m=\u001b[39m\u001b[38;5;124m\"\u001b[39m\u001b[38;5;124mRegistering sellers\u001b[39m\u001b[38;5;124m\"\u001b[39m):\n\u001b[1;32m     81\u001b[0m     seller_df \u001b[38;5;241m=\u001b[39m seller_data[seller_name]\u001b[38;5;241m.\u001b[39mget_data()\n",
      "File \u001b[0;32m~/Kitana/Kitana-backend/new_search_gpu.py:690\u001b[0m, in \u001b[0;36mDataMarket.register_buyer\u001b[0;34m(self, buyer_df, join_keys, join_key_domains, target_feature, fit_by_residual)\u001b[0m\n\u001b[1;32m    687\u001b[0m     buyer_sketch_info[\u001b[38;5;124m\"\u001b[39m\u001b[38;5;124mbuyer_sketch\u001b[39m\u001b[38;5;124m\"\u001b[39m] \u001b[38;5;241m=\u001b[39m buyer_sketch\n\u001b[1;32m    688\u001b[0m     \u001b[38;5;28mself\u001b[39m\u001b[38;5;241m.\u001b[39mbuyer_sketches[join_key] \u001b[38;5;241m=\u001b[39m buyer_sketch_info\n\u001b[0;32m--> 690\u001b[0m     batch_id, offset \u001b[38;5;241m=\u001b[39m \u001b[43mbuyer_sketch\u001b[49m\u001b[38;5;241;43m.\u001b[39;49m\u001b[43mregister_this_buyer\u001b[49m\u001b[43m(\u001b[49m\u001b[43mfit_by_residual\u001b[49m\u001b[38;5;241;43m=\u001b[39;49m\u001b[43mfit_by_residual\u001b[49m\u001b[43m)\u001b[49m \u001b[38;5;66;03m# Currently, batch_id and offset are not used\u001b[39;00m\n\u001b[1;32m    692\u001b[0m \u001b[38;5;28mself\u001b[39m\u001b[38;5;241m.\u001b[39mbuyer_id_to_df_and_name\u001b[38;5;241m.\u001b[39mappend(\n\u001b[1;32m    693\u001b[0m     {\u001b[38;5;124m\"\u001b[39m\u001b[38;5;124mname\u001b[39m\u001b[38;5;124m\"\u001b[39m: target_feature,\n\u001b[1;32m    694\u001b[0m      \u001b[38;5;124m\"\u001b[39m\u001b[38;5;124mdataframe\u001b[39m\u001b[38;5;124m\"\u001b[39m: \u001b[38;5;28mself\u001b[39m\u001b[38;5;241m.\u001b[39mbuyer_dataset}\n\u001b[1;32m    695\u001b[0m )\n\u001b[1;32m    696\u001b[0m \u001b[38;5;66;03m# Update the buyer_id\u001b[39;00m\n",
      "File \u001b[0;32m~/Kitana/Kitana-backend/new_search_gpu.py:523\u001b[0m, in \u001b[0;36mBuyerSketch.register_this_buyer\u001b[0;34m(self, fit_by_residual)\u001b[0m\n\u001b[1;32m    520\u001b[0m buyer_x, buyer_x_x, buyer_1, buyer_x_y \u001b[38;5;241m=\u001b[39m \u001b[38;5;28mself\u001b[39m\u001b[38;5;241m.\u001b[39msketch_base\u001b[38;5;241m.\u001b[39m_calibrate(\n\u001b[1;32m    521\u001b[0m     \u001b[38;5;28mself\u001b[39m\u001b[38;5;241m.\u001b[39mdf_id, \u001b[38;5;28mself\u001b[39m\u001b[38;5;241m.\u001b[39mbuyer_df, \u001b[38;5;28mlen\u001b[39m(\u001b[38;5;28mself\u001b[39m\u001b[38;5;241m.\u001b[39mbuyer_df\u001b[38;5;241m.\u001b[39mcolumns) \u001b[38;5;241m-\u001b[39m \u001b[38;5;28mlen\u001b[39m(\u001b[38;5;28mself\u001b[39m\u001b[38;5;241m.\u001b[39mjoin_keys), \u001b[38;5;28mself\u001b[39m\u001b[38;5;241m.\u001b[39mjoin_key_domains, \u001b[38;5;28mself\u001b[39m\u001b[38;5;241m.\u001b[39mjoin_keys, is_buyer\u001b[38;5;241m=\u001b[39m\u001b[38;5;28;01mTrue\u001b[39;00m, fit_by_residual\u001b[38;5;241m=\u001b[39mfit_by_residual)\n\u001b[1;32m    522\u001b[0m \u001b[38;5;66;03m# Register the df\u001b[39;00m\n\u001b[0;32m--> 523\u001b[0m result \u001b[38;5;241m=\u001b[39m \u001b[38;5;28;43mself\u001b[39;49m\u001b[38;5;241;43m.\u001b[39;49m\u001b[43msketch_base\u001b[49m\u001b[38;5;241;43m.\u001b[39;49m\u001b[43m_register_df\u001b[49m\u001b[43m(\u001b[49m\u001b[43mdf_id\u001b[49m\u001b[38;5;241;43m=\u001b[39;49m\u001b[43m \u001b[49m\u001b[38;5;28;43mself\u001b[39;49m\u001b[38;5;241;43m.\u001b[39;49m\u001b[43mdf_id\u001b[49m\u001b[43m,\u001b[49m\u001b[43m \u001b[49m\u001b[43mfeature_num\u001b[49m\u001b[38;5;241;43m=\u001b[39;49m\u001b[38;5;28;43mlen\u001b[39;49m\u001b[43m(\u001b[49m\u001b[38;5;28;43mself\u001b[39;49m\u001b[38;5;241;43m.\u001b[39;49m\u001b[43mbuyer_df\u001b[49m\u001b[38;5;241;43m.\u001b[39;49m\u001b[43mcolumns\u001b[49m\u001b[43m)\u001b[49m\u001b[43m \u001b[49m\u001b[38;5;241;43m-\u001b[39;49m\u001b[43m \u001b[49m\u001b[38;5;28;43mlen\u001b[39;49m\u001b[43m(\u001b[49m\u001b[38;5;28;43mself\u001b[39;49m\u001b[38;5;241;43m.\u001b[39;49m\u001b[43mjoin_keys\u001b[49m\u001b[43m)\u001b[49m\u001b[43m,\u001b[49m\u001b[43m \u001b[49m\u001b[43mseller_1\u001b[49m\u001b[38;5;241;43m=\u001b[39;49m\u001b[43mbuyer_1\u001b[49m\u001b[43m,\u001b[49m\u001b[43m \u001b[49m\u001b[43mseller_x\u001b[49m\u001b[38;5;241;43m=\u001b[39;49m\u001b[43mbuyer_x\u001b[49m\u001b[43m,\u001b[49m\u001b[43m \u001b[49m\u001b[43mseller_x_x\u001b[49m\u001b[38;5;241;43m=\u001b[39;49m\u001b[43mbuyer_x_x\u001b[49m\u001b[43m,\u001b[49m\u001b[43m \u001b[49m\u001b[43mseller_x_y\u001b[49m\u001b[38;5;241;43m=\u001b[39;49m\u001b[43mbuyer_x_y\u001b[49m\u001b[43m)\u001b[49m\n\u001b[1;32m    524\u001b[0m \u001b[38;5;28mself\u001b[39m\u001b[38;5;241m.\u001b[39mbatch_id \u001b[38;5;241m=\u001b[39m result[\u001b[38;5;124m\"\u001b[39m\u001b[38;5;124mbatch_id\u001b[39m\u001b[38;5;124m\"\u001b[39m]\n\u001b[1;32m    525\u001b[0m \u001b[38;5;28mself\u001b[39m\u001b[38;5;241m.\u001b[39moffset \u001b[38;5;241m=\u001b[39m result[\u001b[38;5;124m\"\u001b[39m\u001b[38;5;124moffset\u001b[39m\u001b[38;5;124m\"\u001b[39m]\n",
      "File \u001b[0;32m~/Kitana/Kitana-backend/new_search_gpu.py:257\u001b[0m, in \u001b[0;36mSketchBase._register_df\u001b[0;34m(self, df_id, feature_num, seller_1, seller_x, seller_x_x, seller_x_y, to_disk)\u001b[0m\n\u001b[1;32m    255\u001b[0m     \u001b[38;5;28;01mraise\u001b[39;00m \u001b[38;5;167;01mValueError\u001b[39;00m(\u001b[38;5;124m\"\u001b[39m\u001b[38;5;124mThe number of features in the dataframe is too large.\u001b[39m\u001b[38;5;124m\"\u001b[39m)\n\u001b[1;32m    256\u001b[0m \u001b[38;5;66;03m# Load the sketches\u001b[39;00m\n\u001b[0;32m--> 257\u001b[0m \u001b[38;5;28;43mself\u001b[39;49m\u001b[38;5;241;43m.\u001b[39;49m\u001b[43msketch_loader\u001b[49m\u001b[38;5;241;43m.\u001b[39;49m\u001b[43mload_sketches\u001b[49m\u001b[43m(\u001b[49m\n\u001b[1;32m    258\u001b[0m \u001b[43m    \u001b[49m\u001b[43mseller_1\u001b[49m\u001b[43m \u001b[49m\u001b[38;5;241;43m=\u001b[39;49m\u001b[43m \u001b[49m\u001b[43mseller_1\u001b[49m\u001b[43m,\u001b[49m\n\u001b[1;32m    259\u001b[0m \u001b[43m    \u001b[49m\u001b[43mseller_x\u001b[49m\u001b[43m \u001b[49m\u001b[38;5;241;43m=\u001b[39;49m\u001b[43m \u001b[49m\u001b[43mseller_x\u001b[49m\u001b[43m,\u001b[49m\n\u001b[1;32m    260\u001b[0m \u001b[43m    \u001b[49m\u001b[43mseller_x_x\u001b[49m\u001b[43m \u001b[49m\u001b[38;5;241;43m=\u001b[39;49m\u001b[43m \u001b[49m\u001b[43mseller_x_x\u001b[49m\u001b[43m,\u001b[49m\n\u001b[1;32m    261\u001b[0m \u001b[43m    \u001b[49m\u001b[43mseller_x_y\u001b[49m\u001b[43m \u001b[49m\u001b[38;5;241;43m=\u001b[39;49m\u001b[43m \u001b[49m\u001b[43mseller_x_y\u001b[49m\u001b[43m,\u001b[49m\n\u001b[1;32m    262\u001b[0m \u001b[43m    \u001b[49m\u001b[43mfeature_index_map\u001b[49m\u001b[43m \u001b[49m\u001b[38;5;241;43m=\u001b[39;49m\u001b[43m \u001b[49m\u001b[38;5;28;43mself\u001b[39;49m\u001b[38;5;241;43m.\u001b[39;49m\u001b[43mfeature_index_mapping\u001b[49m\u001b[43m,\u001b[49m\n\u001b[1;32m    263\u001b[0m \u001b[43m    \u001b[49m\u001b[43mseller_id\u001b[49m\u001b[43m \u001b[49m\u001b[38;5;241;43m=\u001b[39;49m\u001b[43m \u001b[49m\u001b[43mdf_id\u001b[49m\u001b[43m,\u001b[49m\n\u001b[1;32m    264\u001b[0m \u001b[43m    \u001b[49m\u001b[43mto_disk\u001b[49m\u001b[43m \u001b[49m\u001b[38;5;241;43m=\u001b[39;49m\u001b[43m \u001b[49m\u001b[43mto_disk\u001b[49m\n\u001b[1;32m    265\u001b[0m \u001b[43m\u001b[49m\u001b[43m)\u001b[49m\n\u001b[1;32m    266\u001b[0m \u001b[38;5;66;03m# Return the updated offset corresponding to the df_id. This is not efficient. Only for unit test usage.\u001b[39;00m\n\u001b[1;32m    267\u001b[0m \u001b[38;5;28;01mdef\u001b[39;00m \u001b[38;5;21mfind_by_seller_id\u001b[39m(feature_index_map, seller_id):\n",
      "File \u001b[0;32m~/Kitana/Kitana-backend/new_search_gpu.py:87\u001b[0m, in \u001b[0;36mSketchLoader.load_sketches\u001b[0;34m(self, seller_1, seller_x, seller_x_x, feature_index_map, seller_id, cur_df_offset, to_disk, seller_x_y)\u001b[0m\n\u001b[1;32m     85\u001b[0m     \u001b[38;5;28mself\u001b[39m\u001b[38;5;241m.\u001b[39msketch_x_y_batch[\u001b[38;5;241m0\u001b[39m] \u001b[38;5;241m=\u001b[39m seller_x_y\u001b[38;5;241m.\u001b[39mto(\u001b[38;5;28mself\u001b[39m\u001b[38;5;241m.\u001b[39mdevice)\n\u001b[1;32m     86\u001b[0m \u001b[38;5;28;01melse\u001b[39;00m:\n\u001b[0;32m---> 87\u001b[0m     \u001b[38;5;28mself\u001b[39m\u001b[38;5;241m.\u001b[39msketch_1_batch[\u001b[38;5;241m0\u001b[39m] \u001b[38;5;241m=\u001b[39m \u001b[43mseller_1\u001b[49m\u001b[38;5;241;43m.\u001b[39;49m\u001b[43mto\u001b[49m\u001b[43m(\u001b[49m\u001b[38;5;28;43mself\u001b[39;49m\u001b[38;5;241;43m.\u001b[39;49m\u001b[43mdevice\u001b[49m\u001b[43m)\u001b[49m\n\u001b[1;32m     88\u001b[0m \u001b[38;5;28mself\u001b[39m\u001b[38;5;241m.\u001b[39msketch_x_batch[\u001b[38;5;241m0\u001b[39m] \u001b[38;5;241m=\u001b[39m seller_x\u001b[38;5;241m.\u001b[39mto(\u001b[38;5;28mself\u001b[39m\u001b[38;5;241m.\u001b[39mdevice)\n\u001b[1;32m     89\u001b[0m \u001b[38;5;28mself\u001b[39m\u001b[38;5;241m.\u001b[39msketch_x_x_batch[\u001b[38;5;241m0\u001b[39m] \u001b[38;5;241m=\u001b[39m seller_x_x\u001b[38;5;241m.\u001b[39mto(\u001b[38;5;28mself\u001b[39m\u001b[38;5;241m.\u001b[39mdevice)\n",
      "File \u001b[0;32m~/Kitana/Kitana-backend/Kitana-env/lib/python3.11/site-packages/torch/cuda/__init__.py:298\u001b[0m, in \u001b[0;36m_lazy_init\u001b[0;34m()\u001b[0m\n\u001b[1;32m    296\u001b[0m \u001b[38;5;28;01mif\u001b[39;00m \u001b[38;5;124m\"\u001b[39m\u001b[38;5;124mCUDA_MODULE_LOADING\u001b[39m\u001b[38;5;124m\"\u001b[39m \u001b[38;5;129;01mnot\u001b[39;00m \u001b[38;5;129;01min\u001b[39;00m os\u001b[38;5;241m.\u001b[39menviron:\n\u001b[1;32m    297\u001b[0m     os\u001b[38;5;241m.\u001b[39menviron[\u001b[38;5;124m\"\u001b[39m\u001b[38;5;124mCUDA_MODULE_LOADING\u001b[39m\u001b[38;5;124m\"\u001b[39m] \u001b[38;5;241m=\u001b[39m \u001b[38;5;124m\"\u001b[39m\u001b[38;5;124mLAZY\u001b[39m\u001b[38;5;124m\"\u001b[39m\n\u001b[0;32m--> 298\u001b[0m \u001b[43mtorch\u001b[49m\u001b[38;5;241;43m.\u001b[39;49m\u001b[43m_C\u001b[49m\u001b[38;5;241;43m.\u001b[39;49m\u001b[43m_cuda_init\u001b[49m\u001b[43m(\u001b[49m\u001b[43m)\u001b[49m\n\u001b[1;32m    299\u001b[0m \u001b[38;5;66;03m# Some of the queued calls may reentrantly call _lazy_init();\u001b[39;00m\n\u001b[1;32m    300\u001b[0m \u001b[38;5;66;03m# we need to just return without initializing in that case.\u001b[39;00m\n\u001b[1;32m    301\u001b[0m \u001b[38;5;66;03m# However, we must not let any *other* threads in!\u001b[39;00m\n\u001b[1;32m    302\u001b[0m _tls\u001b[38;5;241m.\u001b[39mis_initializing \u001b[38;5;241m=\u001b[39m \u001b[38;5;28;01mTrue\u001b[39;00m\n",
      "\u001b[0;31mRuntimeError\u001b[0m: Found no NVIDIA driver on your system. Please check that you have an NVIDIA GPU and installed a driver from http://www.nvidia.com/Download/index.aspx"
     ]
    }
   ],
   "source": [
    "import os\n",
    "import time\n",
    "import new_search_gpu\n",
    "import numpy as np\n",
    "import pandas as pd\n",
    "import kitana_unittest.data_provider as data_provider\n",
    "import torch\n",
    "\n",
    "def test_scaled(create_df, fit_by_residual):\n",
    "    from tqdm import tqdm\n",
    "    def create_feature_names(prefix, count):\n",
    "        \"\"\" Helper function to create feature names for DataFrames. \"\"\"\n",
    "        return [f\"{prefix}{i+1}\" for i in range(count)]\n",
    "\n",
    "\n",
    "    def create_dataframe(rows=1000, features=10000, join_key_domains=None, prefix='f'):\n",
    "        if join_key_domains is None:\n",
    "            join_key_domains = {'join_key': 1000}\n",
    "\n",
    "        data = np.random.randint(low=0, high=100, size=(rows, features))\n",
    "        feature_cols = [f'{prefix}{i+1}' for i in range(features)]\n",
    "\n",
    "        df = pd.DataFrame(data, columns=feature_cols)\n",
    "\n",
    "        for key, domain in join_key_domains.items():\n",
    "            join_keys = np.random.choice(\n",
    "                domain, size=rows, replace=True)\n",
    "            df.insert(0, key, join_keys)\n",
    "\n",
    "        return df, feature_cols\n",
    "\n",
    "    # List to store paths of seller dataframes\n",
    "    seller_dfs = []\n",
    "\n",
    "    if create_df:\n",
    "        buyer_df, buyer_features = create_dataframe(rows=10000, features=10000, join_key_domains={'m': 100, 'n': 10}, prefix='b')\n",
    "        buyer_df.to_csv(\"data/test_dataset/buyer/buyer_1.csv\", index=False)\n",
    "        print(\"buyer_df of 1000 rows and 10000 features has been created with join key being country and year\")\n",
    "        target_feature = buyer_features[0]  # 'b1'\n",
    "\n",
    "        for i in tqdm(range(100), desc=\"Creating seller dataframes\"):\n",
    "            seller_df, features = create_dataframe(rows=10000, features=10000, join_key_domains={'m': 100, 'n': 10}, prefix=f's{i+1}_')\n",
    "            seller_df.to_csv(f\"data/test_dataset/seller/seller_{i+1}.csv\", index=False)\n",
    "            seller_dfs.append(f\"data/test_dataset/seller/seller_{i+1}.csv\")\n",
    "\n",
    "    else:\n",
    "        # When not creating dataframes, populate seller_dfs with existing csv files\n",
    "        directory_path = \"data/test_dataset/seller\"\n",
    "        all_files = os.listdir(directory_path)\n",
    "        seller_dfs = [os.path.join(directory_path, f) for f in all_files if f.startswith(\"seller_\") and f.endswith(\".csv\")]\n",
    "\n",
    "    seller_dfs = seller_dfs[:2]\n",
    "    \n",
    "    prepare_data = data_provider.PrepareBuyerSellers()\n",
    "\n",
    "    buyer_features = create_feature_names('b', 10000)\n",
    "    if 'b1' in buyer_features:\n",
    "        buyer_features.remove('b1')\n",
    "    buyer_features = buyer_features[:2]\n",
    "    # Load buyer data\n",
    "    buyer = data_provider.PrepareBuyer(data_path=\"data/test_dataset/buyer/buyer_1.csv\", join_keys=[['m'], ['n']], one_target_feature=False,features=buyer_features, target_feature='b1', from_disk=True, need_to_clean_data=False)\n",
    "    prepare_data.add_buyer(buyer)\n",
    "    \n",
    "    for i, seller_path in tqdm(enumerate(seller_dfs), total=len(seller_dfs), desc=\"Adding sellers\"):\n",
    "        t = time.time()\n",
    "        seller_name = os.path.basename(seller_path).replace('.csv', '')\n",
    "        seller_feature = create_feature_names(f's{i+1}_', 10000)\n",
    "        seller = data_provider.PrepareSeller(data_path=seller_path, join_keys=[['m'], ['n']], features=seller_feature, from_disk=True, need_to_clean_data=False)\n",
    "        prepare_data.add_seller(seller_name=seller_name, seller=seller)\n",
    "        s = time.time()\n",
    "        print(f\"Time to add each seller: {s - t}\")\n",
    "\n",
    "    buyer_join_keys = list(prepare_data.get_buyer_join_keys())\n",
    "    buyer_data = prepare_data.get_buyer_data()\n",
    "    seller_data = prepare_data.get_seller_data()\n",
    "    seller_names = prepare_data.get_sellers().get_seller_names()\n",
    "\n",
    "    data_market = new_search_gpu.DataMarket(device='cuda')\n",
    "    data_market.register_buyer(buyer_df=buyer_data, join_keys=buyer_join_keys, target_feature='b1', join_key_domains=prepare_data.get_domain(), fit_by_residual=fit_by_residual)\n",
    "\n",
    "    for i, seller_name in tqdm(enumerate(seller_names), total=len(seller_names), desc=\"Registering sellers\"):\n",
    "        seller_df = seller_data[seller_name].get_data()\n",
    "        join_keys = list(prepare_data.get_sellers().get_sellers()[seller_name].join_key_domains.keys())\n",
    "        data_market.register_seller(seller_df=seller_df, join_keys=join_keys, seller_name=seller_name, join_key_domains=prepare_data.get_domain())\n",
    "    s = time.time()\n",
    "    search_engine = new_search_gpu.SearchEngine(data_market, fit_by_residual=fit_by_residual)\n",
    "    search_engine.start(iter=10)\n",
    "    t = time.time()\n",
    "    print(f\"Time to search: {t-s}\")\n",
    "    augplan = search_engine.augplan\n",
    "    augplan_acc = data_market.augplan_acc\n",
    "\n",
    "    print(\"Augmented Plan Accuracy: \", augplan_acc)\n",
    "\n",
    "    import matplotlib.pyplot as plt\n",
    "    plt.plot(augplan_acc)\n",
    "    plt.xlabel('Iterations')\n",
    "    plt.ylabel('Accuracy')\n",
    "    plt.title('Augmented Plan Accuracy')\n",
    "    plt.show()\n",
    "\n",
    "print(\"Scaled test started\")\n",
    "test_scaled(create_df=False, fit_by_residual=True)\n"
   ]
  },
  {
   "cell_type": "code",
   "execution_count": null,
   "id": "44484d8a-07f9-4f78-a345-1b5c0bf41a95",
   "metadata": {},
   "outputs": [],
   "source": []
  }
 ],
 "metadata": {
  "kernelspec": {
   "display_name": "Python (Kitana-env)",
   "language": "python",
   "name": "kitana-env"
  },
  "language_info": {
   "codemirror_mode": {
    "name": "ipython",
    "version": 3
   },
   "file_extension": ".py",
   "mimetype": "text/x-python",
   "name": "python",
   "nbconvert_exporter": "python",
   "pygments_lexer": "ipython3",
   "version": "3.11.9"
  }
 },
 "nbformat": 4,
 "nbformat_minor": 5
}
